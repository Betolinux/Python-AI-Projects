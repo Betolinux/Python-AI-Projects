{
  "nbformat": 4,
  "nbformat_minor": 0,
  "metadata": {
    "colab": {
      "provenance": [],
      "toc_visible": true
    },
    "kernelspec": {
      "name": "python3",
      "display_name": "Python 3"
    },
    "language_info": {
      "name": "python"
    }
  },
  "cells": [
    {
      "cell_type": "markdown",
      "source": [
        "# **Chapter 3 - Chat with Your Documents  (Backend Code)**\n",
        "\n",
        "\n"
      ],
      "metadata": {
        "id": "b4x6ZLLbENyf"
      }
    },
    {
      "cell_type": "markdown",
      "source": [
        "In this chapter we are going to learn how we can chat with our documents."
      ],
      "metadata": {
        "id": "hJNXc70yes8o"
      }
    },
    {
      "cell_type": "markdown",
      "source": [
        "# Lesson A: Conversational Model Interaction with Environment Setup (doc_bot.py)"
      ],
      "metadata": {
        "id": "SVwOyoryi7ul"
      }
    },
    {
      "cell_type": "markdown",
      "source": [
        "**Importing and Environment Setup**: Imports necessary modules and components, including environment variables (load_env), text processing and modeling components (RecursiveCharacterTextSplitter, OpenAIEmbeddings, FAISS, S3FileLoader, load_memory_to_pass), callback functions, and garbage collection (gc)."
      ],
      "metadata": {
        "id": "Nk34ja5yjGY9"
      }
    },
    {
      "cell_type": "code",
      "source": [
        "from .load_env import *\n",
        "from langchain.text_splitter import RecursiveCharacterTextSplitter\n",
        "from langchain.embeddings import OpenAIEmbeddings\n",
        "from langchain.vectorstores import FAISS\n",
        "from langchain.document_loaders import S3FileLoader\n",
        "from .db_utils import (\n",
        "    load_memory_to_pass,\n",
        ")\n",
        "from langchain.callbacks import get_openai_callback\n",
        "from langchain.chains import ConversationalRetrievalChain\n",
        "from langchain.chat_models import ChatOpenAI\n",
        "import gc"
      ],
      "metadata": {
        "id": "EUA7OeMUi7cF"
      },
      "execution_count": null,
      "outputs": []
    },
    {
      "cell_type": "markdown",
      "source": [
        "**Generate a Response using a Conversational Model**: Defines a function (get_response) to generate a response using a conversational model.  Takes parameters such as file name, session ID, user query, model name, and temperature for response randomness."
      ],
      "metadata": {
        "id": "uo3wkqtvjQio"
      }
    },
    {
      "cell_type": "code",
      "source": [
        "def get_response(\n",
        "    file_name: str,\n",
        "    session_id: str,\n",
        "    query: str,\n",
        "    model: str = \"gpt-3.5-turbo-16k\",\n",
        "    temperature: float = 0,\n",
        "):"
      ],
      "metadata": {
        "id": "8qc5djWwjRAo"
      },
      "execution_count": null,
      "outputs": []
    },
    {
      "cell_type": "markdown",
      "source": [
        "**Function Workflow Overview**:The function performs a series of steps, including loading embeddings, downloading data from AWS S3, splitting data to comply with GPT token limits, storing data in a vector database, initializing an OpenAI model, creating a conversational retrieval chain, interacting with the model, printing token usage information, storing this information in the answer, and finally, collecting garbage from memory."
      ],
      "metadata": {
        "id": "EMQPB6YNjpCA"
      }
    },
    {
      "cell_type": "code",
      "source": [
        "embeddings = OpenAIEmbeddings()  # load embeddings\n",
        "loader = S3FileLoader(...)  # download file from S3\n",
        "data = loader.load()  # load data\n",
        "text_splitter = RecursiveCharacterTextSplitter(...)  # split data\n",
        "all_splits = text_splitter.split_documents(data)  # store data in vector DB\n",
        "vectorstore = FAISS.from_documents(all_splits, embeddings)  # initialize vector store\n",
        "llm = ChatOpenAI(...)  # initialize OpenAI model\n",
        "qa_chain = ConversationalRetrievalChain.from_llm(...)  # initialize retrieval chain\n",
        "with get_openai_callback() as cb:  # use callback to determine tokens used\n",
        "    answer = qa_chain({...})  # interact with the model\n",
        "print(f\"Total Tokens: {cb.total_tokens}\")  # print token usage information\n",
        "print(f\"Prompt Tokens: {cb.prompt_tokens}\")\n",
        "print(f\"Completion Tokens: {cb.completion_tokens}\")\n",
        "print(f\"Total Cost (USD): ${cb.total_cost}\")\n",
        "answer[\"total_tokens_used\"] = cb.total_tokens  # store token usage in the answer\n",
        "gc.collect()  # collect garbage from memory\n",
        "return answer  # return the generated response"
      ],
      "metadata": {
        "id": "POa8PkFpjphb"
      },
      "execution_count": null,
      "outputs": []
    },
    {
      "cell_type": "markdown",
      "source": [
        "\n",
        "#Lesson B:  Environment Variable Configuration for System Integration (load_env.py)\n"
      ],
      "metadata": {
        "id": "TeSK-emohS8c"
      }
    },
    {
      "cell_type": "markdown",
      "source": [
        "**OS Check**  - Checks if the operating system is Windows (nt stands for Windows). This condition is used to handle environment variable loading differently for Windows."
      ],
      "metadata": {
        "id": "p_c72gZDhu0o"
      }
    },
    {
      "cell_type": "code",
      "source": [
        "# Import the os module for system-related operations\n",
        "import os\n",
        "\n",
        "# Check if the operating system is Windows\n",
        "if os.name == \"nt\":  # Windows\n",
        "\n",
        "    # If it's Windows, import the `load_dotenv` function from the `dotenv` library\n",
        "    from dotenv import load_dotenv\n",
        "\n",
        "    # Load environment variables from a `.secrets.env` file (used for local development)\n",
        "    load_dotenv(\".secrets.env\")"
      ],
      "metadata": {
        "id": "zERGO_Ouhuaq"
      },
      "execution_count": null,
      "outputs": []
    },
    {
      "cell_type": "markdown",
      "source": [
        "**Retrieving and Assigning Environment Variables**:\n",
        "S3_KEY = os.environ.get(\"S3_KEY\")\n",
        "S3_SECRET = os.environ.get(\"S3_SECRET\")\n",
        "S3_BUCKET = os.environ.get(\"S3_BUCKET\")\n",
        "S3_REGION = os.environ.get(\"S3_REGION\")\n",
        "OPENAI_API_KEY = os.environ.get(\"OPENAI_API_KEY\")\n",
        "MONGO_URL = os.environ.get(\"MONGO_URL\")\n",
        "S3_PATH = os.environ.get(\"S3_PATH\")\n"
      ],
      "metadata": {
        "id": "kXgLh1I3h-BR"
      }
    },
    {
      "cell_type": "code",
      "source": [
        "S3_KEY = os.environ.get(\"S3_KEY\")\n",
        "S3_SECRET = os.environ.get(\"S3_SECRET\")\n",
        "S3_BUCKET = os.environ.get(\"S3_BUCKET\")\n",
        "S3_REGION = os.environ.get(\"S3_REGION\")\n",
        "OPENAI_API_KEY = os.environ.get(\"OPENAI_API_KEY\")\n",
        "MONGO_URL = os.environ.get(\"MONGO_URL\")\n",
        "S3_PATH = os.environ.get(\"S3_PATH\")"
      ],
      "metadata": {
        "id": "Go6fm_LLiGa6"
      },
      "execution_count": null,
      "outputs": []
    },
    {
      "cell_type": "markdown",
      "source": [
        "#Lesson C: MongoDB Connection and Initialization with Error Handling (load_db.py)\n",
        "\n"
      ],
      "metadata": {
        "id": "5Ylk4B6tpOso"
      }
    },
    {
      "cell_type": "markdown",
      "source": [
        "**Importing Necessary Libraries:** Imports the required libraries for MongoDB interaction (pymongo), loads the MongoDB URL from a local module, and includes modules for error handling (traceback, os, sys)."
      ],
      "metadata": {
        "id": "O0mWBtpJvz3w"
      }
    },
    {
      "cell_type": "code",
      "source": [
        "import pymongo\n",
        "from .load_env import MONGO_URL\n",
        "import traceback\n",
        "import os, sys"
      ],
      "metadata": {
        "id": "B9FmLtPspObp"
      },
      "execution_count": null,
      "outputs": []
    },
    {
      "cell_type": "markdown",
      "source": [
        "**Connecting to MongoDB and Initializing Collection**: Tries to connect to MongoDB using the provided URL, accesses the \"chat_with_doc\" database, initializes the \"chat-history\" collection, and creates an index on the \"session_id\" field for uniqueness. If an exception occurs, it prints detailed error information, including the exception type, filename, and line number."
      ],
      "metadata": {
        "id": "ofzwL-JTwVyo"
      }
    },
    {
      "cell_type": "code",
      "source": [
        "try:\n",
        "    client = pymongo.MongoClient(MONGO_URL, uuidRepresentation=\"standard\")\n",
        "    db = client[\"chat_with_doc\"]\n",
        "    conversationcol = db[\"chat-history\"]\n",
        "    conversationcol.create_index([(\"session_id\")], unique=True)\n",
        "except:\n",
        "    print(traceback.format_exc())\n",
        "    exc_type, exc_obj, exc_tb = sys.exc_info()\n",
        "    fname = os.path.split(exc_tb.tb_frame.f_code.co_filename)[1]\n",
        "    print(exc_type, fname, exc_tb.tb_lineno)"
      ],
      "metadata": {
        "id": "aJizxlZ2wVTt"
      },
      "execution_count": null,
      "outputs": []
    },
    {
      "cell_type": "markdown",
      "source": [
        "# Lesson D: Setup Database (MongoDB) to store and retrieve these conversations (db_utils.py)"
      ],
      "metadata": {
        "id": "goeElU4JiHnr"
      }
    },
    {
      "cell_type": "markdown",
      "source": [
        "**Import Statement**: Imports the conversationcol object from the load_db module, suggesting that load_db likely holds a MongoDB collection object. Additionally, it imports the uuid module for generating unique session IDs and the List type from the typing module, indicating that the load_memory_to_pass function expects a list as one of its parameters.\n",
        "\n",
        "\n"
      ],
      "metadata": {
        "id": "kmiIc0QxjAzU"
      }
    },
    {
      "cell_type": "code",
      "source": [
        "from .load_db import conversationcol\n",
        "import uuid\n",
        "from typing import List"
      ],
      "metadata": {
        "id": "3wHqyyqSiHE4"
      },
      "execution_count": null,
      "outputs": []
    },
    {
      "cell_type": "markdown",
      "source": [
        "\n",
        "**Document Retrieval and History Initialization**:\n",
        "Retrieves a MongoDB document based on the provided session ID and initializes an empty list (history) to store conversation history. The conversation data is then processed, printed, and returned as a list.\n"
      ],
      "metadata": {
        "id": "2Q96tIqSkDRz"
      }
    },
    {
      "cell_type": "code",
      "source": [
        "def load_memory_to_pass(session_id: str):\n",
        "    data = conversationcol.find_one({\"session_id\": session_id})\n",
        "    history = []\n",
        "    if data:\n",
        "        data = data[\"conversation\"]\n",
        "        for x in range(0, len(data), 2):\n",
        "            history.extend([(data[x], data[x + 1])])\n",
        "    print(history)\n",
        "    return history"
      ],
      "metadata": {
        "id": "LunXLPAOkD3A"
      },
      "execution_count": null,
      "outputs": []
    },
    {
      "cell_type": "markdown",
      "source": [
        "**Generate a New Unique Session ID**\n"
      ],
      "metadata": {
        "id": "Dl8zndfMmDhu"
      }
    },
    {
      "cell_type": "code",
      "source": [
        "def get_session() -> str:\n",
        "    return str(uuid.uuid4())"
      ],
      "metadata": {
        "id": "c08N76wolomy"
      },
      "execution_count": null,
      "outputs": []
    },
    {
      "cell_type": "markdown",
      "source": [
        "**Document Handling and Update Logic:**\n",
        "The code retrieves a MongoDB document based on the provided session ID, checks for its existence, and updates the conversation field with new values if it exists using $set and update_one. If the document doesn't exist, a new document is inserted with the provided session ID and conversation history."
      ],
      "metadata": {
        "id": "iFMKtCmxmcU8"
      }
    },
    {
      "cell_type": "code",
      "source": [
        "def add_session_history(session_id: str, new_values: List):\n",
        "    document = conversationcol.find_one({\"session_id\": session_id})\n",
        "    if document:\n",
        "        conversation = document[\"conversation\"]\n",
        "        conversation.extend(new_values)\n",
        "        conversationcol.update_one(\n",
        "            {\"session_id\": session_id},\n",
        "            {\"$set\": {\"conversation\": conversation}},\n",
        "        )\n",
        "    else:\n",
        "        conversationcol.insert_one(\n",
        "            {\n",
        "                \"session_id\": session_id,\n",
        "                \"conversation\": new_values,\n",
        "            }\n",
        "        )"
      ],
      "metadata": {
        "id": "O5exX7namdGC"
      },
      "execution_count": null,
      "outputs": []
    },
    {
      "cell_type": "markdown",
      "source": [
        "# Lesson 1: Import Modules and Libraries"
      ],
      "metadata": {
        "id": "nnJeBXc9jNT3"
      }
    },
    {
      "cell_type": "markdown",
      "source": [],
      "metadata": {
        "id": "Q-51TxP3j4MX"
      }
    },
    {
      "cell_type": "markdown",
      "source": [
        "**Model Imports:** *from model import **  imports components from the model module. This likely includes data models or structures used in the application.\n",
        "\n",
        "**System Operations:** *import sys* and import traceback are for system-related operations and error handling, respectively.\n"
      ],
      "metadata": {
        "id": "3fs3mvqgjYpD"
      }
    },
    {
      "cell_type": "code",
      "execution_count": null,
      "metadata": {
        "id": "lhoczKGWaYSm"
      },
      "outputs": [],
      "source": [
        "from model import *  # Import the model components\n",
        "import sys  # Import the sys module for system-related operations\n",
        "import traceback  # Import traceback for error handling"
      ]
    },
    {
      "cell_type": "markdown",
      "source": [
        "**FastAPI Framework Components:** Import necessary components from the FastAPI framework. FastAPI is the main class for creating the web application, while UploadFile, status, and HTTPException are used for handling file uploads, HTTP status codes, and exceptions, respectively."
      ],
      "metadata": {
        "id": "l2dE2tr8kDhO"
      }
    },
    {
      "cell_type": "code",
      "source": [
        "from fastapi import (\n",
        "    FastAPI,\n",
        "    UploadFile,\n",
        "    status,\n",
        "    HTTPException,\n",
        ")"
      ],
      "metadata": {
        "id": "H49jP3FmkHjJ"
      },
      "execution_count": null,
      "outputs": []
    },
    {
      "cell_type": "markdown",
      "source": [
        "**FastAPI Response Components:**This line imports JSONResponse from FastAPI. This is used for constructing and returning JSON responses from the web application.\n",
        "\n",
        "**CORS Middleware:** CORS (Cross-Origin Resource Sharing) middleware is imported from FastAPI. It is used to handle cross-origin requests by adding appropriate headers to the responses, allowing the web application to be accessed from different domains."
      ],
      "metadata": {
        "id": "s7dfcQ7BGoOW"
      }
    },
    {
      "cell_type": "code",
      "source": [
        "\n",
        "# Import FastAPI components for building the web application\n",
        "from fastapi.responses import JSONResponse  # Import JSONResponse for returning JSON responses\n",
        "from fastapi.middleware.cors import CORSMiddleware  # Import CORS middleware to handle Cross-Origin Resource Sharing"
      ],
      "metadata": {
        "id": "MimbXramGnbJ"
      },
      "execution_count": null,
      "outputs": []
    },
    {
      "cell_type": "markdown",
      "source": [
        "**Custom Module Imports:** These lines import custom modules (doc_bot and db_utils) that contain functions (get_response, add_session_history, load_memory_to_pass) used for bot functionality and managing database sessions."
      ],
      "metadata": {
        "id": "feKcRquSG8i8"
      }
    },
    {
      "cell_type": "code",
      "source": [
        "# Import custom modules for bot functionality\n",
        "from bot.doc_bot import get_response  # Import a function for generating responses\n",
        "from bot.db_utils import (\n",
        "    add_session_history,\n",
        "    load_memory_to_pass,\n",
        ")"
      ],
      "metadata": {
        "id": "vtfPQfV-G7-e"
      },
      "execution_count": null,
      "outputs": []
    },
    {
      "cell_type": "markdown",
      "source": [
        "**Utility Functions for Database:**The script imports awswrangler for working with AWS services, and the os module for system-related operations."
      ],
      "metadata": {
        "id": "gxeRcbvFHOZz"
      }
    },
    {
      "cell_type": "code",
      "source": [
        "# Import utility functions for managing the database\n",
        "import awswrangler as wr  # Import AWS Wrangler for working with AWS services\n",
        "import os  # Import the os module for system-related operations"
      ],
      "metadata": {
        "id": "eTOmNIR-HOIY"
      },
      "execution_count": null,
      "outputs": []
    },
    {
      "cell_type": "markdown",
      "source": [
        "**AWS SDK, Environment Variables and Database Utilities**:The code imports boto3, a Python SDK for AWS services, and load_env module for loading environment variables and configurations.\n",
        "\n",
        "The last two lines import functions (get_session) for managing bot sessions and modules for loading the database (load_db)."
      ],
      "metadata": {
        "id": "1N3GGGChHb7Y"
      }
    },
    {
      "cell_type": "code",
      "source": [
        "import boto3  # Import the boto3 library for interacting with AWS services\n",
        "from bot.load_env import *  # Import environment variables and configurations\n",
        "from bot.db_utils import get_session  # Import a function for managing bot sessions\n",
        "from bot.load_db import *  # Import modules for loading the database"
      ],
      "metadata": {
        "id": "eZH-gmrIHbNM"
      },
      "execution_count": null,
      "outputs": []
    },
    {
      "cell_type": "markdown",
      "source": [
        "# Lesson 2: Setting Up CORS Middleware for Cross-Origin Resource Sharing"
      ],
      "metadata": {
        "id": "Fn8ENeWoKcZP"
      }
    },
    {
      "cell_type": "markdown",
      "source": [
        "**Initialize a FastAPI application** by creating an instance of the FastAPI class. This app instance will serve as the main entry point for defining routes and handling incoming requests."
      ],
      "metadata": {
        "id": "elAQzmi0LA1S"
      }
    },
    {
      "cell_type": "code",
      "source": [
        "# Create a FastAPI application\n",
        "app = FastAPI()"
      ],
      "metadata": {
        "id": "edNgff5iKb7K"
      },
      "execution_count": null,
      "outputs": []
    },
    {
      "cell_type": "markdown",
      "source": [
        "**Adding CORS Middleware:** Here, we configure CORS middleware to handle Cross-Origin Resource Sharing. The CORSMiddleware is added to the FastAPI application, allowing requests from any origin (allow_origins=[\"*\"]), supporting the inclusion of credentials, allowing all HTTP methods, and accepting any HTTP headers. This ensures seamless communication with the application from different sources."
      ],
      "metadata": {
        "id": "cSALDfGj3rgI"
      }
    },
    {
      "cell_type": "code",
      "source": [
        "# Add CORS middleware to handle Cross-Origin Resource Sharing\n",
        "app.add_middleware(\n",
        "    CORSMiddleware,\n",
        "    allow_origins=[\"*\"],\n",
        "    allow_credentials=True,\n",
        "    allow_methods=[\"*\"],\n",
        "    allow_headers=[\"*\"],\n",
        ")"
      ],
      "metadata": {
        "id": "v21AdoEy3id8"
      },
      "execution_count": null,
      "outputs": []
    },
    {
      "cell_type": "markdown",
      "source": [
        "# **Lesson 3: Managing AWS S3 Sessions and Handling Chat Sessions**"
      ],
      "metadata": {
        "id": "hX1fuieI_Kqe"
      }
    },
    {
      "cell_type": "markdown",
      "source": [
        "**Creating an AWS S3 Session:** In this section, we create an AWS S3 session using the boto3 library. The aws_s3 variable represents the session configured with AWS access credentials (ID and secret) and a specific region (us-east-2). This session allows the application to interact with the AWS S3 storage, enabling file uploads and other operations."
      ],
      "metadata": {
        "id": "u47xOuwr35jK"
      }
    },
    {
      "cell_type": "code",
      "source": [
        "# Create an AWS S3 session with provided access credentials\n",
        "aws_s3 = boto3.Session(\n",
        "    aws_access_key_id=S3_KEY,\n",
        "    aws_secret_access_key=S3_SECRET,\n",
        "    region_name=\"us-east-2\",\n",
        ")"
      ],
      "metadata": {
        "id": "IlcVHpmD4ZRa"
      },
      "execution_count": null,
      "outputs": []
    },
    {
      "cell_type": "markdown",
      "source": [
        "**Handling Chat Messages (Route \"/chat\"):**\n",
        "This section defines a route /chat for handling incoming POST requests. The function create_chat_message takes a parameter chats of type ChatMessageSent, representing a data model for incoming chat messages. The function, marked as async, indicates that it can perform asynchronous operations. The details inside the function process the chat message, generate a response, and return it in JSON format."
      ],
      "metadata": {
        "id": "zTRxkgNp4g0w"
      }
    },
    {
      "cell_type": "code",
      "source": [
        "\n",
        "@app.post(\"/chat\")\n",
        "async def create_chat_message(\n",
        "    chats: ChatMessageSent,\n",
        "):\n",
        "    \"\"\"\n",
        "    Create a chat message and obtain a response based on user input and session.\n",
        "\n",
        "    This route allows users to send chat messages, and it returns responses based on\n",
        "    the provided input and the associated session. If a session ID is not provided\n",
        "    in the request, a new session is created. The conversation history is updated, and\n",
        "    the response, along with the session ID, is returned.\n",
        "\n",
        "    Args:\n",
        "        chats (ChatMessageSent): A Pydantic model representing the chat message, including\n",
        "        session ID, user input, and data source.\n",
        "\n",
        "    Returns:\n",
        "        JSONResponse: A JSON response containing the response message and the session ID.\n",
        "\n",
        "    Raises:\n",
        "        HTTPException: If an unexpected error occurs during the chat message processing,\n",
        "        it returns a 204 NO CONTENT HTTP status with an \"error\" detail.\n",
        "    \"\"\"\n",
        "    try:\n",
        "        if chats.session_id is None:\n",
        "            session_id = get_session()\n",
        "\n",
        "            payload = ChatMessageSent(\n",
        "                session_id=session_id,\n",
        "                user_input=chats.user_input,\n",
        "                data_source=chats.data_source,\n",
        "            )\n",
        "            payload = payload.dict()\n",
        "\n",
        "            response = get_response(\n",
        "                file_name=payload.get(\"data_source\"),\n",
        "                session_id=payload.get(\"session_id\"),\n",
        "                query=payload.get(\"user_input\"),\n",
        "            )\n",
        "\n",
        "            add_session_history(\n",
        "                session_id=session_id,\n",
        "                new_values=[payload.get(\"user_input\"), response[\"answer\"]],\n",
        "            )\n",
        "\n",
        "            return JSONResponse(\n",
        "                content={\n",
        "                    \"response\": response,\n",
        "                    \"session_id\": str(session_id),\n",
        "                }\n",
        "            )\n",
        "\n",
        "        else:\n",
        "            payload = ChatMessageSent(\n",
        "                session_id=str(chats.session_id),\n",
        "                user_input=chats.user_input,\n",
        "                data_source=chats.data_source,\n",
        "            )\n",
        "            payload = payload.dict()\n",
        "\n",
        "            response = get_response(\n",
        "                file_name=payload.get(\"data_source\"),\n",
        "                session_id=payload.get(\"session_id\"),\n",
        "                query=payload.get(\"user_input\"),\n",
        "            )\n",
        "\n",
        "            add_session_history(\n",
        "                session_id=str(chats.session_id),\n",
        "                new_values=[payload.get(\"user_input\"), response[\"answer\"]],\n",
        "            )\n",
        "\n",
        "            return JSONResponse(\n",
        "                content={\n",
        "                    \"response\": response,\n",
        "                    \"session_id\": str(chats.session_id),\n",
        "                }\n",
        "            )\n",
        "    except Exception:\n",
        "        print(traceback.format_exc())\n",
        "\n",
        "        exc_type, exc_obj, exc_tb = sys.exc_info()\n",
        "        fname = os.path.split(exc_tb.tb_frame.f_code.co_filename)[1]\n",
        "        print(exc_type, fname, exc_tb.tb_lineno)\n",
        "        raise HTTPException(status_code=status.HTTP_204_NO_CONTENT, detail=\"error\")\n"
      ],
      "metadata": {
        "id": "QMI9bF5G4Fwc"
      },
      "execution_count": null,
      "outputs": []
    },
    {
      "cell_type": "markdown",
      "source": [
        "# **Lesson 4: Uploading Files to AWS S3 and Error Handling**"
      ],
      "metadata": {
        "id": "8P3hIZeg_alF"
      }
    },
    {
      "cell_type": "markdown",
      "source": [
        "**Uploading a File (Route \"/uploadFile\"):**\n",
        "\n",
        "This section defines a route /uploadFile for handling file uploads. The function uploadtos3 takes a parameter data_file of type UploadFile, representing an uploaded file. The function is marked as async to handle asynchronous operations. The details inside the function read the file, upload it to the AWS S3 storage, and return information about the uploaded file in JSON format."
      ],
      "metadata": {
        "id": "-SVM7WxE5EgK"
      }
    },
    {
      "cell_type": "code",
      "source": [
        "@app.post(\"/uploadFile\")\n",
        "async def uploadtos3(data_file: UploadFile):\n",
        "    \"\"\"\n",
        "    Uploads a file to Amazon S3 storage.\n",
        "\n",
        "    This route allows users to upload a file, which is saved temporarily, uploaded to Amazon S3,\n",
        "    and then removed from the local file system. It returns the filename and S3 file path\n",
        "    in the response JSON.\n",
        "\n",
        "    Args:\n",
        "        data_file (UploadFile): The file to be uploaded.\n",
        "\n",
        "    Returns:\n",
        "        JSONResponse: A JSON response containing the filename and S3 file path.\n",
        "\n",
        "    Raises:\n",
        "        HTTPException: If the file specified in `data_file` is not found (HTTP status code 404).\n",
        "    \"\"\"\n",
        "    try:\n",
        "        with open(f\"{data_file.filename}\", \"wb\") as out_file:\n",
        "            content = await data_file.read()  # async read\n",
        "            out_file.write(content)  # async write\n",
        "        wr.s3.upload(\n",
        "            local_file=data_file.filename,\n",
        "            path=f\"s3://{S3_BUCKET}/{S3_PATH}{data_file.filename}\",\n",
        "            boto3_session=aws_s3,\n",
        "        )\n",
        "        os.remove(data_file.filename)\n",
        "        response = {\n",
        "            \"filename\": data_file.filename,\n",
        "            \"file_path\": f\"s3://{S3_BUCKET}/{S3_PATH}{data_file.filename}\",\n",
        "        }\n",
        "\n",
        "    except FileNotFoundError:\n",
        "        raise HTTPException(status_code=404, detail=\"Item not found\")\n",
        "\n",
        "    return JSONResponse(content=response)"
      ],
      "metadata": {
        "id": "d7W_H3T-5O4v"
      },
      "execution_count": null,
      "outputs": []
    }
  ]
}